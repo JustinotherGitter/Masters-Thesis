{
 "cells": [
  {
   "cell_type": "markdown",
   "metadata": {},
   "source": [
    "# Ch04, Testing and Application"
   ]
  },
  {
   "cell_type": "markdown",
   "metadata": {},
   "source": [
    "## Imports and Setup"
   ]
  },
  {
   "cell_type": "code",
   "execution_count": 11,
   "metadata": {},
   "outputs": [
    {
     "data": {
      "text/plain": [
       "['arce0057.fits',\n",
       " 'arco0057.fits',\n",
       " 'beame0036.fits',\n",
       " 'beame0053.fits',\n",
       " 'beame0054.fits',\n",
       " 'beame0055.fits',\n",
       " 'beame0056.fits',\n",
       " 'beamo0036.fits',\n",
       " 'beamo0053.fits',\n",
       " 'beamo0054.fits',\n",
       " 'beamo0055.fits',\n",
       " 'beamo0056.fits',\n",
       " 'cheb_params_e.txt',\n",
       " 'cheb_params_o.txt',\n",
       " 'corr_res.png',\n",
       " 'database',\n",
       " 'e_frames',\n",
       " 'ecwmxgbpP201702240036.fits',\n",
       " 'ecwmxgbpP201703280053.fits',\n",
       " 'ecwmxgbpP201703280054.fits',\n",
       " 'ecwmxgbpP201703280055.fits',\n",
       " 'ecwmxgbpP201703280056.fits',\n",
       " 'mxgbpP201702240036.fits',\n",
       " 'mxgbpP201703280053.fits',\n",
       " 'mxgbpP201703280054.fits',\n",
       " 'mxgbpP201703280055.fits',\n",
       " 'mxgbpP201703280056.fits',\n",
       " 'mxgbpP201703280057.fits',\n",
       " 'o_frames',\n",
       " 'wmxgbpP201702240036.fits',\n",
       " 'wmxgbpP201703280053.fits',\n",
       " 'wmxgbpP201703280054.fits',\n",
       " 'wmxgbpP201703280055.fits',\n",
       " 'wmxgbpP201703280056.fits',\n",
       " 'wmxgbpP201703280057.fits']"
      ]
     },
     "execution_count": 11,
     "metadata": {},
     "output_type": "execute_result"
    }
   ],
   "source": [
    "import os\n",
    "from pathlib import Path\n",
    "\n",
    "import astropy.io.fits as pyfits\n",
    "import numpy as np\n",
    "import matplotlib.pyplot as plt\n",
    "\n",
    "work_dir = Path('../../STOPS/test_data/20170328/sci')\n",
    "sorted(os.listdir(work_dir))\n"
   ]
  },
  {
   "cell_type": "markdown",
   "metadata": {},
   "source": [
    "## Testing `split`"
   ]
  },
  {
   "cell_type": "code",
   "execution_count": 39,
   "metadata": {},
   "outputs": [
    {
     "name": "stdout",
     "output_type": "stream",
     "text": [
      "BITPIX: 8 != -32\n",
      "NAXIS: 0 != 2\n",
      "EXTEND: True not in splito\n"
     ]
    }
   ],
   "source": [
    "# ! fitsheader ../../STOPS/test_data/20170328/sci/beamo0054.fits\n",
    "\n",
    "with pyfits.open(work_dir / 'mxgbpP201703280054.fits') as pre, \\\n",
    "     pyfits.open(work_dir / 'beamo0054.fits') as splito, \\\n",
    "     pyfits.open(work_dir / 'beame0054.fits') as splite:\n",
    "    # print(pre.info(), splito.info(), splite.info())\n",
    "    # print(repr(splito[0].header))\n",
    "\n",
    "    # print('\\n\\n')\n",
    "    # print(hdul1.info(), '\\n')\n",
    "    # print(repr(hdul1[0].header))\n",
    "\n",
    "    for key, val in pre[0].header.items():\n",
    "        if key in ['COMMENT', 'HISTORY']:\n",
    "            continue\n",
    "        \n",
    "        if key in splito[0].header:\n",
    "            if splito[0].header[key] != val:\n",
    "                print(f'{key}: {val} != {splito[0].header[key]}')\n",
    "        else:\n",
    "            print(f'{key}: {val} not in splito')\n"
   ]
  },
  {
   "cell_type": "markdown",
   "metadata": {},
   "source": [
    "## Testing `join`"
   ]
  },
  {
   "cell_type": "code",
   "execution_count": null,
   "metadata": {},
   "outputs": [],
   "source": [
    "# ! fitsheader ../../STOPS/test_data/20170328/sci/beamo0054.fits\n",
    "\n",
    "with pyfits.open(work_dir / 'wmxgbpP201703280054.fits') as pre, \\\n",
    "     pyfits.open(work_dir / 'beamo0054.fits') as splito, \\\n",
    "     pyfits.open(work_dir / 'beame0054.fits') as splite:\n",
    "    # print(pre.info(), splito.info(), splite.info())\n",
    "    # print(repr(splito[0].header))\n",
    "\n",
    "    # print('\\n\\n')\n",
    "    # print(hdul1.info(), '\\n')\n",
    "    # print(repr(hdul1[0].header))\n",
    "\n",
    "    for key, val in pre[0].header.items():\n",
    "        if key in ['COMMENT', 'HISTORY']:\n",
    "            continue\n",
    "        \n",
    "        if key in splito[0].header:\n",
    "            if splito[0].header[key] != val:\n",
    "                print(f'{key}: {val} != {splito[0].header[key]}')\n",
    "        else:\n",
    "            print(f'{key}: {val} not in splito')"
   ]
  }
 ],
 "metadata": {
  "kernelspec": {
   "display_name": "Python 3",
   "language": "python",
   "name": "python3"
  },
  "language_info": {
   "codemirror_mode": {
    "name": "ipython",
    "version": 3
   },
   "file_extension": ".py",
   "mimetype": "text/x-python",
   "name": "python",
   "nbconvert_exporter": "python",
   "pygments_lexer": "ipython3",
   "version": "3.10.12"
  }
 },
 "nbformat": 4,
 "nbformat_minor": 2
}
