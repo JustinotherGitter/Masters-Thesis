{
 "cells": [
  {
   "cell_type": "markdown",
   "metadata": {},
   "source": [
    "# <center>Thesis Related Jupyter Notebook</center>"
   ]
  },
  {
   "cell_type": "code",
   "execution_count": 1,
   "metadata": {},
   "outputs": [
    {
     "name": "stderr",
     "output_type": "stream",
     "text": [
      "/tmp/ipykernel_75709/4137232968.py:8: UserWarning: Style includes a parameter, 'figure.raise_window', that is not related to style.  Ignoring this parameter.\n",
      "  plt.style.use('/media/justin/Transcend/STOPS/utils/STOPS.mplstyle')\n",
      "/tmp/ipykernel_75709/4137232968.py:8: UserWarning: Style includes a parameter, 'savefig.directory', that is not related to style.  Ignoring this parameter.\n",
      "  plt.style.use('/media/justin/Transcend/STOPS/utils/STOPS.mplstyle')\n"
     ]
    }
   ],
   "source": [
    "import os\n",
    "from pathlib import Path\n",
    "\n",
    "import astropy.io.fits as pyfits\n",
    "import numpy as np\n",
    "import matplotlib.pyplot as plt\n",
    "\n",
    "plt.style.use('/media/justin/Transcend/STOPS/utils/STOPS.mplstyle')\n",
    "# from astropy.visualization import astropy_mpl_style\n",
    "# plt.style.use(astropy_mpl_style)\n",
    "\n",
    "# plt.rcParams[\"figure.autolayout\"] = True\n",
    "# plt.rcParams[\"figure.figsize\"] = [9.597, 3.084]\n",
    "\n",
    "def imshow():\n",
    "    plt.axis('off')"
   ]
  },
  {
   "cell_type": "markdown",
   "metadata": {},
   "source": [
    "## Introduction <span style='float:right'>Chapter 01</span>"
   ]
  },
  {
   "cell_type": "code",
   "execution_count": null,
   "metadata": {},
   "outputs": [],
   "source": []
  },
  {
   "cell_type": "markdown",
   "metadata": {},
   "source": [
    "## Spectropolarimetry and the <span style=\"font-variant:small-caps;\">salt</span> RSS <span style='float:right'>Chapter 02</span>"
   ]
  },
  {
   "cell_type": "code",
   "execution_count": null,
   "metadata": {},
   "outputs": [],
   "source": []
  },
  {
   "cell_type": "markdown",
   "metadata": {},
   "source": [
    "## Existing and Developed Software <span style='float:right'>Chapter 03</span>"
   ]
  },
  {
   "cell_type": "markdown",
   "metadata": {},
   "source": [
    "### $\\S~3.2.4$ - Transform"
   ]
  },
  {
   "cell_type": "code",
   "execution_count": null,
   "metadata": {},
   "outputs": [],
   "source": [
    "image_fileO = pyfits.getdata('figures/3_tarcO.fits')\n",
    "image_fileE = pyfits.getdata('figures/3_tarcE.fits')\n",
    "\n",
    "pyfits.info(image_fileO)\n",
    "pyfits.info(image_fileE)\n",
    "\n",
    "image_data = np.array([\n",
    "    pyfits.getdata(image_fileO, ext=0),\n",
    "    pyfits.getdata(image_fileE, ext=0)\n",
    "])\n",
    "print(image_data.shape)\n",
    "\n",
    "for i in [0, 1]:\n",
    "    fig, ax = plt.subplots(figsize=(9.597, 3.584))\n",
    "    ax.imshow(image_data[i], cmap='gray', vmax=np.mean(image_data[i]) + 2 * np.std(image_data[i]), origin='lower')\n",
    "    ax.grid()\n",
    "    ax.axis('off')\n",
    "\n",
    "    plt.savefig(f'figures/3_tarc{\"O\" if i else \"E\"}.pdf', bbox_inches='tight') # Can save as svg for editing in inkscape\n",
    "    plt.show()\n",
    "\n",
    "# CH03 - S03.2.4\n",
    "# image_fileO = get_pkg_data_filename('figures/3_tarcO.fits')\n",
    "# image_fileE = get_pkg_data_filename('figures/3_tarcE.fits')\n",
    "# fits.info(image_fileO)\n",
    "# fits.info(image_fileE)\n",
    "# image_data = np.array([fits.getdata(image_fileO, ext=0),fits.getdata(image_fileE, ext=0)])\n",
    "# print(image_data.shape)\n",
    "# for i in [0, 1]:\n",
    "#     fig, ax = plt.subplots(figsize=(9.597, 3.584))\n",
    "#     ax.imshow(image_data[i], cmap='gray', vmax=np.mean(image_data[i]) + 2 * np.std(image_data[i]), origin='lower')\n",
    "#     ax.grid()\n",
    "#     ax.axis('off')\n",
    "#     plt.savefig(f'figures/3_tarc{\"O\" if i else \"E\"}.pdf', bbox_inches='tight') # Can save as svg for editing in inkscape\n",
    "#     plt.show()"
   ]
  },
  {
   "cell_type": "markdown",
   "metadata": {},
   "source": [
    "### $\\S~3.3.1$ - Splitting"
   ]
  },
  {
   "cell_type": "code",
   "execution_count": null,
   "metadata": {},
   "outputs": [],
   "source": [
    "image_fileO = pyfits.getdata('G:/Masters_20-24/Masters_Data/3C_279/20170517_Ne/sci/obeam0069.fits')\n",
    "image_fileE = pyfits.getdata('G:/Masters_20-24/Masters_Data/3C_279/20170517_Ne/sci/ebeam0069.fits')\n",
    "\n",
    "pyfits.info(image_fileO)\n",
    "pyfits.info(image_fileE)\n",
    "\n",
    "image_data = [0, 1]\n",
    "image_data[0] = pyfits.getdata(image_fileO, ext=0)\n",
    "image_data[1] = pyfits.getdata(image_fileE, ext=0)\n",
    "image_data = np.array(image_data)\n",
    "print(image_data.shape)\n",
    "\n",
    "fig, axs = plt.subplots(2, figsize=(9.597, 3.584))\n",
    "for i in [0, 1]:\n",
    "    axs[i].imshow(image_data[i], cmap='gray', vmax=np.mean(image_data[i]) + 2 * np.std(image_data[i]), origin='lower')\n",
    "    axs[i].grid()\n",
    "    axs[i].axis('off')\n",
    "\n",
    "plt.savefig('../figures/3_OEsplit.pdf', bbox_inches='tight') # Can save as svg for editing in inkscape\n",
    "plt.show()\n",
    "\n",
    "# CH03 - S03.2.1\n",
    "# image_fileO = get_pkg_data_filename('G:/Masters_20-24/Masters_Data/3C_279/20170517_Ne/sci/obeam0069.fits')\n",
    "# image_fileE = get_pkg_data_filename('G:/Masters_20-24/Masters_Data/3C_279/20170517_Ne/sci/ebeam0069.fits')\n",
    "# fits.info(image_fileO)\n",
    "# fits.info(image_fileE)\n",
    "# image_data = [0, 1]\n",
    "# image_data[0] = fits.getdata(image_fileO, ext=0)\n",
    "# image_data[1] = fits.getdata(image_fileE, ext=0)\n",
    "# image_data = np.array(image_data)\n",
    "# print(image_data.shape)\n",
    "# fig, axs = plt.subplots(2, figsize=(9.597, 3.584))\n",
    "# for i in [0, 1]:\n",
    "#     axs[i].imshow(image_data[i], cmap='gray', vmax=np.mean(image_data[i]) + 2 * np.std(image_data[i]), origin='lower')\n",
    "#     axs[i].grid()\n",
    "#     axs[i].axis('off')\n",
    "# plt.savefig('../figures/3_OEsplit.pdf', bbox_inches='tight') # Can save as svg for editing in inkscape\n",
    "# plt.show()"
   ]
  },
  {
   "cell_type": "markdown",
   "metadata": {},
   "source": [
    "### $\\S~3.3.2$ - Joining"
   ]
  },
  {
   "cell_type": "code",
   "execution_count": null,
   "metadata": {},
   "outputs": [],
   "source": [
    "image_file = pyfits.getdata('G:/Masters_20-24/Masters_Data/3C_279/20170517_Ne/sci/wmxgbpP201705170069.fits')\n",
    "\n",
    "pyfits.info(image_file)\n",
    "\n",
    "image_data = pyfits.getdata(image_file, ext=1)\n",
    "print(image_data.shape)\n",
    "\n",
    "fig, axs = plt.subplots(2, figsize=(9.597, 3.584))\n",
    "for i in [0, 1]:\n",
    "    axs[-1-i].imshow(image_data[i], cmap='gray', vmax=np.mean(image_data[i]) + 2 * np.std(image_data[i]), origin='lower')\n",
    "    axs[-1-i].grid()\n",
    "    axs[-1-i].axis('off')\n",
    "\n",
    "plt.savefig('../figures/3_post_wav_cal.pdf', bbox_inches='tight') # Can save as svg for editing in inkscape\n",
    "plt.show()\n",
    "\n",
    "#######\n",
    "\n",
    "image_data = pyfits.getdata(image_file, extname='wav')\n",
    "print(image_data.shape)\n",
    "\n",
    "fig, axs = plt.subplots(2, figsize=(9.597, 3.584+1), sharex=True)\n",
    "for i in [0, 1]:\n",
    "    axs[i].imshow(image_data[1 if i == 0 else 0],\n",
    "                cmap='gray', vmax=np.mean(image_data[1 if i == 0 else 0]) + 2 * np.std(image_data[1 if i == 0 else 0]),\n",
    "                vmin=np.mean(image_data[1 if i == 0 else 0]) - 3 * np.std(image_data[1 if i == 0 else 0]),\n",
    "                origin='lower')\n",
    "    axs[i].grid() \n",
    "    axs[i].axis('off')\n",
    "\n",
    "fig.colorbar(axs[1].images[0], orientation='horizontal', aspect=50)\n",
    "\n",
    "\n",
    "plt.savefig('../figures/3_pol_wav_ext.pdf', bbox_inches='tight', dpi=300) # Can save as svg for editing in inkscape\n",
    "plt.show()\n",
    "\n",
    "# CH03 - S03.2.3\n",
    "# image_file = get_pkg_data_filename('G:/Masters_20-24/Masters_Data/3C_279/20170517_Ne/sci/wmxgbpP201705170069.fits')\n",
    "# fits.info(image_file)\n",
    "# image_data = fits.getdata(image_file, ext=1)\n",
    "# print(image_data.shape)\n",
    "# fig, axs = plt.subplots(2, figsize=(9.597, 3.584))\n",
    "# for i in [0, 1]:\n",
    "#     axs[-1-i].imshow(image_data[i], cmap='gray', vmax=np.mean(image_data[i]) + 2 * np.std(image_data[i]), origin='lower')\n",
    "#     axs[-1-i].grid()\n",
    "#     axs[-1-i].axis('off')\n",
    "# plt.savefig('../figures/3_post_wav_cal.pdf', bbox_inches='tight') # Can save as svg for editing in inkscape\n",
    "# plt.show()\n",
    "# #######\n",
    "# image_data = fits.getdata(image_file, extname='wav')\n",
    "# print(image_data.shape)\n",
    "# fig, axs = plt.subplots(2, figsize=(9.597, 3.584+1), sharex=True)\n",
    "# for i in [0, 1]:\n",
    "#     axs[i].imshow(image_data[1 if i == 0 else 0],\n",
    "#                 cmap='gray', vmax=np.mean(image_data[1 if i == 0 else 0]) + 2 * np.std(image_data[1 if i == 0 else 0]),\n",
    "#                 vmin=np.mean(image_data[1 if i == 0 else 0]) - 3 * np.std(image_data[1 if i == 0 else 0]),\n",
    "#                 origin='lower')\n",
    "#     axs[i].grid() \n",
    "#     axs[i].axis('off')\n",
    "# fig.colorbar(axs[1].images[0], orientation='horizontal', aspect=50)\n",
    "# plt.savefig('../figures/3_pol_wav_ext.pdf', bbox_inches='tight', dpi=300) # Can save as svg for editing in inkscape\n",
    "# plt.show()"
   ]
  },
  {
   "cell_type": "markdown",
   "metadata": {},
   "source": [
    "### $\\S~3.4.2$ - <span style=\"font-variant:small-caps\">polsalt</span> Pre-reductions"
   ]
  },
  {
   "cell_type": "code",
   "execution_count": null,
   "metadata": {},
   "outputs": [],
   "source": [
    "# CH03 - S03.2\n",
    "\n",
    "image_file = pyfits.getdata('G:/Masters_20-24/Masters_Data/3C_279/20170517_Ne/sci/mxgbpP201705170069.fits')\n",
    "\n",
    "pyfits.info(image_file)\n",
    "\n",
    "image_data = pyfits.getdata(image_file, ext=1)\n",
    "print(image_data.shape)\n",
    "\n",
    "plt.figure()\n",
    "plt.imshow(image_data, cmap='gray', vmax=np.mean(image_data) + 2 * np.std(image_data), origin='lower')\n",
    "# plt.colorbar(orientation='horizontal')\n",
    "plt.grid()\n",
    "plt.axis('off')\n",
    "plt.savefig('../figures/3_pre_wav_cal.pdf', bbox_inches='tight') # Can save as svg for editing in inkscape\n",
    "plt.show()\n",
    "\n",
    "# CH03 - S03.2\n",
    "# image_file = get_pkg_data_filename('G:/Masters_20-24/Masters_Data/3C_279/20170517_Ne/sci/mxgbpP201705170069.fits')\n",
    "# fits.info(image_file)\n",
    "# image_data = fits.getdata(image_file, ext=1)\n",
    "# print(image_data.shape)\n",
    "# plt.figure()\n",
    "# plt.imshow(image_data, cmap='gray', vmax=np.mean(image_data) + 2 * np.std(image_data), origin='lower')\n",
    "# # plt.colorbar(orientation='horizontal')\n",
    "# plt.grid()\n",
    "# plt.axis('off')\n",
    "# plt.savefig('../figures/3_pre_wav_cal.pdf', bbox_inches='tight') # Can save as svg for editing in inkscape\n",
    "# plt.show()"
   ]
  },
  {
   "cell_type": "markdown",
   "metadata": {},
   "source": [
    "## Testing and Application <span style='float:right'>Chapter 04</span>"
   ]
  },
  {
   "cell_type": "code",
   "execution_count": 2,
   "metadata": {},
   "outputs": [
    {
     "data": {
      "text/plain": [
       "['arce0057.fits',\n",
       " 'arco0057.fits',\n",
       " 'beame0036.fits',\n",
       " 'beame0053.fits',\n",
       " 'beame0054.fits',\n",
       " 'beame0055.fits',\n",
       " 'beame0056.fits',\n",
       " 'beamo0036.fits',\n",
       " 'beamo0053.fits',\n",
       " 'beamo0054.fits',\n",
       " 'beamo0055.fits',\n",
       " 'beamo0056.fits',\n",
       " 'cheb_params_e.txt',\n",
       " 'cheb_params_o.txt',\n",
       " 'corr_res.png',\n",
       " 'database',\n",
       " 'e_frames',\n",
       " 'ecwmxgbpP201702240036.fits',\n",
       " 'ecwmxgbpP201703280053.fits',\n",
       " 'ecwmxgbpP201703280054.fits',\n",
       " 'ecwmxgbpP201703280055.fits',\n",
       " 'ecwmxgbpP201703280056.fits',\n",
       " 'mxgbpP201702240036.fits',\n",
       " 'mxgbpP201703280053.fits',\n",
       " 'mxgbpP201703280054.fits',\n",
       " 'mxgbpP201703280055.fits',\n",
       " 'mxgbpP201703280056.fits',\n",
       " 'mxgbpP201703280057.fits',\n",
       " 'o_frames',\n",
       " 'tarce0057.fits',\n",
       " 'tarco0057.fits',\n",
       " 'tbeame0036.fits',\n",
       " 'tbeame0053.fits',\n",
       " 'tbeame0054.fits',\n",
       " 'tbeame0055.fits',\n",
       " 'tbeame0056.fits',\n",
       " 'tbeamo0036.fits',\n",
       " 'tbeamo0053.fits',\n",
       " 'tbeamo0054.fits',\n",
       " 'tbeamo0055.fits',\n",
       " 'tbeamo0056.fits',\n",
       " 'wmxgbpP201702240036.fits',\n",
       " 'wmxgbpP201703280053.fits',\n",
       " 'wmxgbpP201703280054.fits',\n",
       " 'wmxgbpP201703280055.fits',\n",
       " 'wmxgbpP201703280056.fits',\n",
       " 'wmxgbpP201703280057.fits']"
      ]
     },
     "execution_count": 2,
     "metadata": {},
     "output_type": "execute_result"
    }
   ],
   "source": [
    "work_dir = Path('../STOPS/test_data/20170328/sci')\n",
    "sorted(os.listdir(work_dir))"
   ]
  },
  {
   "cell_type": "markdown",
   "metadata": {},
   "source": [
    "### Testing `split`"
   ]
  },
  {
   "cell_type": "code",
   "execution_count": 3,
   "metadata": {},
   "outputs": [],
   "source": [
    "pol_fits = work_dir / 'mxgbpP201703280054.fits'\n",
    "splito_fits = work_dir / 'beamo0054.fits'\n",
    "splite_fits = work_dir / 'beame0054.fits'\n",
    "\n",
    "pol_shape = pyfits.getdata(pol_fits, extname='SCI').shape\n"
   ]
  },
  {
   "cell_type": "markdown",
   "metadata": {},
   "source": [
    "#### Header Differences"
   ]
  },
  {
   "cell_type": "code",
   "execution_count": 4,
   "metadata": {},
   "outputs": [
    {
     "name": "stdout",
     "output_type": "stream",
     "text": [
      "\n",
      " fitsdiff: 2.0.16\n",
      " a: ../STOPS/test_data/20170328/sci/mxgbpP201703280054.fits\n",
      " b: ../STOPS/test_data/20170328/sci/beamo0054.fits\n",
      " Maximum number of different data values to be reported: 10\n",
      " Relative tolerance: 0.0, Absolute tolerance: 0.0\n",
      "\n",
      "Files contain different numbers of HDUs:\n",
      " a: 4\n",
      " b: 1\n",
      "\n",
      "Primary HDU:\n",
      "\n",
      "   Headers contain differences:\n",
      "     Headers have different number of cards:\n",
      "      a: 161\n",
      "      b: 162\n",
      "     Extra keyword 'EXTEND' in a: True\n",
      "     Extra keyword 'NAXIS1' in b: 3199\n",
      "     Extra keyword 'NAXIS2' in b: 474\n",
      "     Keyword BITPIX   has different values:\n",
      "        a> 8\n",
      "        b> -32\n",
      "     Keyword BITPIX   has different comments:\n",
      "        a> number of bits per data pixel\n",
      "        b> array data type\n",
      "     Keyword NAXIS    has different values:\n",
      "        a> 0\n",
      "        b> 2\n",
      "     Keyword NAXIS    has different comments:\n",
      "        a> number of data axes\n",
      "        b> number of array dimensions\n",
      "     Keyword SIMPLE   has different comments:\n",
      "        a> file does conform to FITS standard\n",
      "         ? ----------\n",
      "        b> conforms to FITS standard\n",
      "         ?        +\n",
      "\n",
      " fitsdiff: 2.0.16\n",
      " a: ../STOPS/test_data/20170328/sci/mxgbpP201703280054.fits\n",
      " b: ../STOPS/test_data/20170328/sci/beame0054.fits\n",
      " Maximum number of different data values to be reported: 10\n",
      " Relative tolerance: 0.0, Absolute tolerance: 0.0\n",
      "\n",
      "Files contain different numbers of HDUs:\n",
      " a: 4\n",
      " b: 1\n",
      "\n",
      "Primary HDU:\n",
      "\n",
      "   Headers contain differences:\n",
      "     Headers have different number of cards:\n",
      "      a: 161\n",
      "      b: 162\n",
      "     Extra keyword 'EXTEND' in a: True\n",
      "     Extra keyword 'NAXIS1' in b: 3199\n",
      "     Extra keyword 'NAXIS2' in b: 474\n",
      "     Keyword BITPIX   has different values:\n",
      "        a> 8\n",
      "        b> -32\n",
      "     Keyword BITPIX   has different comments:\n",
      "        a> number of bits per data pixel\n",
      "        b> array data type\n",
      "     Keyword NAXIS    has different values:\n",
      "        a> 0\n",
      "        b> 2\n",
      "     Keyword NAXIS    has different comments:\n",
      "        a> number of data axes\n",
      "        b> number of array dimensions\n",
      "     Keyword SIMPLE   has different comments:\n",
      "        a> file does conform to FITS standard\n",
      "         ? ----------\n",
      "        b> conforms to FITS standard\n",
      "         ?        +\n",
      "\n",
      " fitsdiff: 2.0.16\n",
      " a: ../STOPS/test_data/20170328/sci/beamo0054.fits\n",
      " b: ../STOPS/test_data/20170328/sci/beame0054.fits\n",
      " Maximum number of different data values to be reported: 10\n",
      " Relative tolerance: 0.0, Absolute tolerance: 0.0\n",
      "\n",
      "Primary HDU:\n",
      "\n",
      "   Data contains differences:\n",
      "     Data differs at [2, 1]:\n",
      "        a> 0.805017\n",
      "        b> 0.0\n",
      "     Data differs at [3, 1]:\n",
      "        a> 3.6030936\n",
      "        b> 0.19612175\n",
      "     Data differs at [4, 1]:\n",
      "        a> 4.3307962\n",
      "        b> 5.357823\n",
      "     Data differs at [5, 1]:\n",
      "        a> 6.217943\n",
      "        b> 14.232482\n",
      "     Data differs at [6, 1]:\n",
      "        a> 3.545426\n",
      "        b> 11.237139\n",
      "     Data differs at [7, 1]:\n",
      "        a> 4.9654236\n",
      "        b> 10.473618\n",
      "     Data differs at [8, 1]:\n",
      "        a> 3.9702399\n",
      "        b> 11.494768\n",
      "     Data differs at [9, 1]:\n",
      "        a> 6.1253433\n",
      "        b> 11.552679\n",
      "     Data differs at [10, 1]:\n",
      "        a> 5.881383\n",
      "        b> 12.7571535\n",
      "     Data differs at [11, 1]:\n",
      "        a> 6.408704\n",
      "        b> 7.424104\n",
      "     ...\n",
      "     1458083 different pixels found (96.16% different).\n"
     ]
    }
   ],
   "source": [
    "# ! fitsheader ../../STOPS/test_data/20170328/sci/beamo0054.fits\n",
    "!fitsdiff --exact $pol_fits $splito_fits\n",
    "!fitsdiff --exact $pol_fits $splite_fits\n",
    "!fitsdiff --exact $splito_fits $splite_fits\n"
   ]
  },
  {
   "cell_type": "markdown",
   "metadata": {},
   "source": [
    "#### Data Differences"
   ]
  },
  {
   "cell_type": "code",
   "execution_count": 5,
   "metadata": {},
   "outputs": [
    {
     "data": {
      "image/png": "[encoded data removed]",
      "text/plain": [
       "<Figure size 432x288 with 4 Axes>"
      ]
     },
     "metadata": {
      "needs_background": "light"
     },
     "output_type": "display_data"
    },
    {
     "name": "stdout",
     "output_type": "stream",
     "text": [
      "___________________________________\n",
      "file\tmin\tmean\tmax\tstd\n",
      "-----------------------------------\n",
      "O  :\t0.0\t0.0\t0.0\t0.0\n",
      "E  :\t0.0\t0.0\t0.0\t0.0\n",
      "‾‾‾‾‾‾‾‾‾‾‾‾‾‾‾‾‾‾‾‾‾‾‾‾‾‾‾‾‾‾‾‾‾‾‾\n"
     ]
    }
   ],
   "source": [
    "offset = 517 - pol_shape[0]//2\n",
    "\n",
    "pol_o_diff = pyfits.getdata(pol_fits, extname='SCI')[pol_shape[0]//2 + offset:-40 + offset] - pyfits.getdata(splito_fits)\n",
    "pol_e_diff = pyfits.getdata(pol_fits, extname='SCI')[40 + offset:pol_shape[0]//2 + offset] - pyfits.getdata(splite_fits)\n",
    "\n",
    "fig, ax = plt.subplots(2, 2, gridspec_kw={'width_ratios': [100, 1]})\n",
    "for i, pol in enumerate([pol_o_diff, pol_e_diff]):\n",
    "    im = ax[i, 0].imshow(pol,\n",
    "        vmin=pol.mean() - 0.5 * pol.std(),\n",
    "        vmax=pol.mean() + 0.5 * pol.std()\n",
    "    )\n",
    "    plt.colorbar(im, ax[i, 1], orientation='horizontal')\n",
    "plt.show()\n",
    "\n",
    "print('_'*35 + \"\\nfile\\tmin\\tmean\\tmax\\tstd\\n\" + '-'*35)\n",
    "print(f\"O  :\\t{pol_o_diff.min()}\\t{pol_o_diff.mean()}\\t{pol_o_diff.max()}\\t{pol_o_diff.std()}\")\n",
    "print(f\"E  :\\t{pol_e_diff.min()}\\t{pol_e_diff.mean()}\\t{pol_e_diff.max()}\\t{pol_e_diff.std()}\")\n",
    "print('‾'*35)\n"
   ]
  },
  {
   "cell_type": "markdown",
   "metadata": {},
   "source": [
    "### Testing `join`"
   ]
  },
  {
   "cell_type": "code",
   "execution_count": 6,
   "metadata": {},
   "outputs": [
    {
     "name": "stdout",
     "output_type": "stream",
     "text": [
      "(2, 514, 3199)\n"
     ]
    }
   ],
   "source": [
    "pol_fits = work_dir / '../polsalt_sci' / 'wmxgbpP201703280054.fits'\n",
    "iraf_fits = work_dir / 'wmxgbpP201703280054.fits'\n",
    "\n",
    "pol_shape = pyfits.getdata(pol_fits, extname='SCI').shape\n",
    "print(pol_shape)\n"
   ]
  },
  {
   "cell_type": "markdown",
   "metadata": {},
   "source": [
    "#### Header Differences"
   ]
  },
  {
   "cell_type": "code",
   "execution_count": 7,
   "metadata": {},
   "outputs": [
    {
     "name": "stdout",
     "output_type": "stream",
     "text": [
      "Filename: ../STOPS/test_data/20170328/sci/../polsalt_sci/wmxgbpP201703280054.fits\n",
      "No.    Name      Ver    Type      Cards   Dimensions   Format\n",
      "  0  PRIMARY       1 PrimaryHDU     161   ()      \n",
      "  1  SCI           1 ImageHDU        21   (3199, 514, 2)   float32   \n",
      "  2  VAR           1 ImageHDU        10   (3199, 514, 2)   float32   \n",
      "  3  BPM           1 ImageHDU        10   (3199, 514, 2)   uint8   \n",
      "  4  WAV           1 ImageHDU        21   (3199, 514, 2)   float32   \n",
      "Filename: ../STOPS/test_data/20170328/sci/wmxgbpP201703280054.fits\n",
      "No.    Name      Ver    Type      Cards   Dimensions   Format\n",
      "  0  PRIMARY       1 PrimaryHDU     161   ()      \n",
      "  1  SCI           1 ImageHDU        21   (3199, 474, 2)   float32   \n",
      "  2  VAR           1 ImageHDU        10   (3199, 474, 2)   float32   \n",
      "  3  BPM           1 ImageHDU        10   (3199, 474, 2)   uint8   \n",
      "  4  WAV           1 ImageHDU        21   (3199, 474, 2)   float32   \n",
      "\n",
      " fitsdiff: 2.0.16\n",
      " a: ../STOPS/test_data/20170328/sci/../polsalt_sci/wmxgbpP201703280054.fits\n",
      " b: ../STOPS/test_data/20170328/sci/wmxgbpP201703280054.fits\n",
      " Maximum number of different data values to be reported: 10\n",
      " Relative tolerance: 0.0, Absolute tolerance: 0.0\n",
      "\n",
      "Primary HDU:\n",
      "\n",
      "   Headers contain differences:\n",
      "     Keyword HISTORY  has different values:\n",
      "        a> CRCLEAN: upper= 4.0, lower= 1.5, sigmaveto= 2.0\n",
      "        b> CRCLEAN: None\n",
      "     Keyword SAL-TLM  has different values:\n",
      "        a> Tue Jul 23 17:46:38 2024\n",
      "        b> Thu Mar 24 10:36:36 2022\n",
      "     Keyword SMOSAIC  has different values:\n",
      "        a> Tue Jul 23 17:46:38 2024\n",
      "        b> Thu Mar 24 10:36:36 2022\n",
      "\n",
      "Extension HDU 1:\n",
      "\n",
      "   Headers contain differences:\n",
      "     Keyword NAXIS2   has different values:\n",
      "        a> 514\n",
      "        b> 474\n",
      "\n",
      "   Data contains differences:\n",
      "     Data dimensions differ:\n",
      "      a: 3199 x 514 x 2\n",
      "      b: 3199 x 474 x 2\n",
      "     No further data comparison performed.\n",
      "\n",
      "Extension HDU 2:\n",
      "\n",
      "   Headers contain differences:\n",
      "     Keyword NAXIS2   has different values:\n",
      "        a> 514\n",
      "        b> 474\n",
      "\n",
      "   Data contains differences:\n",
      "     Data dimensions differ:\n",
      "      a: 3199 x 514 x 2\n",
      "      b: 3199 x 474 x 2\n",
      "     No further data comparison performed.\n",
      "\n",
      "Extension HDU 3:\n",
      "\n",
      "   Headers contain differences:\n",
      "     Keyword NAXIS2   has different values:\n",
      "        a> 514\n",
      "        b> 474\n",
      "\n",
      "   Data contains differences:\n",
      "     Data dimensions differ:\n",
      "      a: 3199 x 514 x 2\n",
      "      b: 3199 x 474 x 2\n",
      "     No further data comparison performed.\n",
      "\n",
      "Extension HDU 4:\n",
      "\n",
      "   Headers contain differences:\n",
      "     Keyword NAXIS2   has different values:\n",
      "        a> 514\n",
      "        b> 474\n",
      "\n",
      "   Data contains differences:\n",
      "     Data dimensions differ:\n",
      "      a: 3199 x 514 x 2\n",
      "      b: 3199 x 474 x 2\n",
      "     No further data comparison performed.\n"
     ]
    }
   ],
   "source": [
    "!fitsinfo $pol_fits\n",
    "!fitsinfo $iraf_fits\n",
    "!fitsdiff --exact $pol_fits $iraf_fits\n"
   ]
  },
  {
   "cell_type": "markdown",
   "metadata": {},
   "source": [
    "#### Data Differences"
   ]
  },
  {
   "cell_type": "markdown",
   "metadata": {},
   "source": [
    "##### <center><span style=\"font-variant:small-caps;\">polsalt</span> `wmxgbp*.fits` == <span style=\"font-variant:small-caps;\">polsalt</span> `mxgbp*.fits`? </center>"
   ]
  },
  {
   "cell_type": "code",
   "execution_count": 8,
   "metadata": {},
   "outputs": [
    {
     "data": {
      "image/png": "[encoded data removed]",
      "text/plain": [
       "<Figure size 432x288 with 1 Axes>"
      ]
     },
     "metadata": {
      "needs_background": "light"
     },
     "output_type": "display_data"
    },
    {
     "data": {
      "image/png": "[encoded data removed]",
      "text/plain": [
       "<Figure size 432x288 with 1 Axes>"
      ]
     },
     "metadata": {
      "needs_background": "light"
     },
     "output_type": "display_data"
    },
    {
     "data": {
      "image/png": "[encoded data removed]",
      "text/plain": [
       "<Figure size 432x288 with 1 Axes>"
      ]
     },
     "metadata": {
      "needs_background": "light"
     },
     "output_type": "display_data"
    },
    {
     "data": {
      "image/png": "[encoded data removed]",
      "text/plain": [
       "<Figure size 432x288 with 1 Axes>"
      ]
     },
     "metadata": {
      "needs_background": "light"
     },
     "output_type": "display_data"
    }
   ],
   "source": [
    "for ext in ['SCI', 'VAR', 'BPM']:\n",
    "    pre_wav = pyfits.getdata(work_dir / 'mxgbpP201703280054.fits', extname=ext)\n",
    "    post_wav = pyfits.getdata(pol_fits, extname=ext)\n",
    "    post_wav = np.concatenate(np.roll(post_wav, 6, axis=1), axis=0)\n",
    "\n",
    "    wav_diff = pre_wav - post_wav\n",
    "    plt.imshow(wav_diff,\n",
    "        vmin=wav_diff.mean() - 0.5 * wav_diff.std(),\n",
    "        vmax=wav_diff.mean() + 0.5 * wav_diff.std()\n",
    "    )\n",
    "    plt.title(ext)\n",
    "    plt.show()\n",
    "\n",
    "plt.imshow(np.concatenate(pyfits.getdata(pol_fits, extname='WAV')))\n",
    "plt.title('WAV')\n",
    "plt.show()"
   ]
  },
  {
   "cell_type": "markdown",
   "metadata": {},
   "source": [
    "##### <center><span style=\"font-variant:small-caps;\">iraf</span> `wmxgbp*.fits` == <span style=\"font-variant:small-caps;\">polsalt</span> `wmxgbp*.fits`? </center>"
   ]
  },
  {
   "cell_type": "code",
   "execution_count": 9,
   "metadata": {},
   "outputs": [
    {
     "data": {
      "image/png": "[encoded data removed]",
      "text/plain": [
       "<Figure size 432x288 with 1 Axes>"
      ]
     },
     "metadata": {
      "needs_background": "light"
     },
     "output_type": "display_data"
    },
    {
     "data": {
      "image/png": "[encoded data removed]",
      "text/plain": [
       "<Figure size 432x288 with 1 Axes>"
      ]
     },
     "metadata": {
      "needs_background": "light"
     },
     "output_type": "display_data"
    },
    {
     "data": {
      "image/png": "[encoded data removed]",
      "text/plain": [
       "<Figure size 432x288 with 1 Axes>"
      ]
     },
     "metadata": {
      "needs_background": "light"
     },
     "output_type": "display_data"
    },
    {
     "data": {
      "image/png": "[encoded data removed]",
      "text/plain": [
       "<Figure size 432x288 with 1 Axes>"
      ]
     },
     "metadata": {
      "needs_background": "light"
     },
     "output_type": "display_data"
    }
   ],
   "source": [
    "for ext in ['SCI', 'VAR', 'BPM', 'WAV']:\n",
    "    # llim = 0 if beam else 40\n",
    "    # ulim = -40 if beam else pol_shape[1]\n",
    "    # diff_ext = pyfits.getdata(pol_fits, extname=pol)[beam, llim:ulim] - np.roll(pyfits.getdata(iraf_fits, extname=pol)[beam], -offset, axis=0)\n",
    "    diff_ext = np.concatenate(np.roll(pyfits.getdata(pol_fits, extname=ext), 3, axis=1), axis=0)# - np.concatenate(pyfits.getdata(iraf_fits, extname=ext), axis=0)\n",
    "    iraf_ext = np.zeros_like(diff_ext)\n",
    "    iraf_ext[40:iraf_ext.shape[0]//2] = pyfits.getdata(iraf_fits, extname=ext)[0]\n",
    "    iraf_ext[-iraf_ext.shape[0]//2:-40] = pyfits.getdata(iraf_fits, extname=ext)[1]\n",
    "    diff_ext -= iraf_ext\n",
    "    diff_ext = diff_ext[40:-40]\n",
    "    \n",
    "    plt.imshow(diff_ext,\n",
    "        vmin=0 - 0.01 * diff_ext.std(),\n",
    "        vmax=0 + 0.01 * diff_ext.std(),\n",
    "        cmap='Greys'\n",
    "    )\n",
    "    plt.title(ext)\n",
    "    plt.show()"
   ]
  },
  {
   "cell_type": "code",
   "execution_count": null,
   "metadata": {},
   "outputs": [],
   "source": []
  }
 ],
 "metadata": {
  "kernelspec": {
   "display_name": "Python 3",
   "language": "python",
   "name": "python3"
  },
  "language_info": {
   "codemirror_mode": {
    "name": "ipython",
    "version": 3
   },
   "file_extension": ".py",
   "mimetype": "text/x-python",
   "name": "python",
   "nbconvert_exporter": "python",
   "pygments_lexer": "ipython3",
   "version": "3.10.12"
  }
 },
 "nbformat": 4,
 "nbformat_minor": 2
}
